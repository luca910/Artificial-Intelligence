{
 "cells": [
  {
   "cell_type": "code",
   "metadata": {},
   "source": [
    "from IPython.display import display, HTML\n",
    "with open('../style.css') as f:\n",
    "    css = f.read()\n",
    "HTML(css)"
   ],
   "outputs": [],
   "execution_count": null
  },
  {
   "cell_type": "code",
   "metadata": {},
   "source": [
    "%load_ext nb_mypy"
   ],
   "outputs": [],
   "execution_count": null
  },
  {
   "cell_type": "markdown",
   "metadata": {},
   "source": [
    "# Breadth First Search"
   ]
  },
  {
   "cell_type": "code",
   "metadata": {},
   "source": [
    "from typing import TypeVar, Callable\n",
    "State    = TypeVar('State')\n",
    "NxtStFct = Callable[[State], set[State]] "
   ],
   "outputs": [],
   "execution_count": null
  },
  {
   "cell_type": "markdown",
   "metadata": {},
   "source": [
    "Given a `state` and a parent dictionary `Parent`, the function `path_to` returns a path leading from `start` to the given `state`."
   ]
  },
  {
   "cell_type": "code",
   "metadata": {},
   "source": [
    "def path_to(state: State, Parent: dict[State, State]) -> list[State]:\n",
    "    p = Parent[state]\n",
    "    if p == state:\n",
    "        return [state]\n",
    "    return path_to(p, Parent) + [state]"
   ],
   "outputs": [],
   "execution_count": null
  },
  {
   "cell_type": "markdown",
   "metadata": {},
   "source": [
    "---\n",
    "\n",
    "The function `search` takes three arguments to solve a *search problem*:\n",
    "- `start` is the *start state* of the search problem,\n",
    "- `goal` is the *goal state*, and\n",
    "- `next_states` is a function with signature $\\texttt{next\\_states}:Q \\rightarrow 2^Q$, where $Q$ is the set of states.\n",
    "   For every state $s \\in Q$, $\\texttt{next\\_states}(s)$ is the set of states that can be reached from $s$ in one step.\n",
    "\n",
    "If successful, `search` returns a path from `start` to `goal` that is a solution of the search problem\n",
    "$$ \\langle Q, \\texttt{next\\_states}, \\texttt{start}, \\texttt{goal} \\rangle. $$\n",
    "The implementation of `search` uses the algorithm *breadth first search* to find a path from `start` to `goal`.\n",
    "\n",
    "At the start of the $n^\\textrm{th}$ iteration of the `while` loop, the following invariants are satisfied:\n",
    "* `Frontier` contains exactly those states that have distance of $n-1$ from `start`.\n",
    "* `Visited`  contains those states that have distance from start that is less than `n-1`.\n",
    "* `Parent` is a dictionary. The keys of this dictionaries are all states from the sets `Visited`, `Frontier`, and `NewFrontier`.    Furthermore, the following invariant holds for all states $x \\not= \\texttt{start}$:\n",
    "  - If $x = \\texttt{Parent}[y]$, then $y \\in \\texttt{next\\_states}(x)$."
   ]
  },
  {
   "cell_type": "code",
   "metadata": {},
   "source": [
    "def search(start: State, goal: State, next_states: NxtStFct) -> list[State] | None:\n",
    "    Frontier            = { start }\n",
    "    Visited: set[State] = set()\n",
    "    Parent              = { start: start }\n",
    "    while Frontier:\n",
    "        NewFrontier = set()\n",
    "        for s in Frontier:\n",
    "            for ns in next_states(s):\n",
    "                if ns not in Visited:\n",
    "                    NewFrontier.add(ns)\n",
    "                    Parent[ns] = s\n",
    "                    if ns == goal:\n",
    "                        print(\"number of states: \", len(Visited) + len(Frontier) + len(NewFrontier))\n",
    "                        return path_to(goal, Parent)\n",
    "        Visited |= Frontier\n",
    "        Frontier = NewFrontier\n",
    "        print(len(Frontier))\n",
    "    return None"
   ],
   "outputs": [],
   "execution_count": null
  },
  {
   "cell_type": "markdown",
   "metadata": {},
   "source": [
    "# Display Code"
   ]
  },
  {
   "cell_type": "code",
   "metadata": {},
   "source": [
    "import graphviz as gv"
   ],
   "outputs": [],
   "execution_count": null
  },
  {
   "cell_type": "markdown",
   "metadata": {},
   "source": [
    "The function $\\texttt{toDot}(\\texttt{source}, \\texttt{Edges}, \\texttt{Fringe}, \\texttt{Visited})$ takes a graph that is represented by \n",
    "its `Edges`, a set of nodes `Fringe`, and set `Visited` of nodes that have already been visited."
   ]
  },
  {
   "cell_type": "code",
   "metadata": {},
   "source": [
    "def toDot(source, goal, Edges, Frontier, Visited, Parent=None):\n",
    "    V = set()\n",
    "    for x, L in Edges.items():\n",
    "        V.add(x)\n",
    "        for y in L:\n",
    "            V.add(y)\n",
    "    dot = gv.Digraph(node_attr={'shape': 'record', 'style': 'rounded'})\n",
    "    dot.attr(rankdir='LR')\n",
    "    dot.attr(size=\"12,20\") \n",
    "    for x in V:\n",
    "        if x == source:\n",
    "            dot.node(str(x), color='blue', shape='doublecircle')\n",
    "        elif x in Frontier and x == goal:\n",
    "            dot.node(str(x), label=str(x), color='magenta')\n",
    "        elif x in Frontier:\n",
    "            dot.node(str(x), label=str(x), color='red')\n",
    "        elif x in Visited:\n",
    "            dot.node(str(x), label=str(x), color='blue')\n",
    "        else:\n",
    "            dot.node(str(x), label=str(x))\n",
    "    if Parent:        \n",
    "        Path = path_to(goal, Parent)\n",
    "    for u in V:\n",
    "        if Edges.get(u):\n",
    "            for v in Edges[u]:\n",
    "                if Parent and v in Path and Parent[v] == u:\n",
    "                    dot.edge(str(u), str(v), color='brown', style='bold')                    \n",
    "                else:\n",
    "                    dot.edge(str(u), str(v))\n",
    "    return dot"
   ],
   "outputs": [],
   "execution_count": null
  },
  {
   "cell_type": "markdown",
   "metadata": {},
   "source": [
    "# Testing"
   ]
  },
  {
   "cell_type": "code",
   "metadata": {},
   "source": [
    "def next_states_test(node):\n",
    "    x, y = node\n",
    "    return { (x+1, y), (x, y+1) }"
   ],
   "outputs": [],
   "execution_count": null
  },
  {
   "cell_type": "code",
   "metadata": {},
   "source": [
    "def create_edges(n):\n",
    "    Edges = {}\n",
    "    for row in range(n):\n",
    "        for col in range(n):\n",
    "            if (row, col) != (n-1, n-1):\n",
    "                Edges[(row, col)] = list(next_states_test((row, col)))\n",
    "    for k in range(n-1):\n",
    "        Edges[(k, n-1)] = [(k+1, n-1)]\n",
    "        Edges[(n-1, k)] = [(n-1, k+1)]\n",
    "    return Edges"
   ],
   "outputs": [],
   "execution_count": null
  },
  {
   "cell_type": "code",
   "metadata": {},
   "source": [
    "def search_show(start, goal, next_states, Edges):\n",
    "    Visited  = set()\n",
    "    Frontier = { start }\n",
    "    Parent   = { start: start }\n",
    "    while len(Frontier) > 0:\n",
    "        display(toDot(start, goal, Edges, Frontier, Visited))\n",
    "        NewFrontier = set()\n",
    "        Visited    |= Frontier\n",
    "        for s in Frontier:\n",
    "            for ns in next_states(s):\n",
    "                if not (ns in Visited):\n",
    "                    NewFrontier.add(ns)\n",
    "                    Parent[ns] = s\n",
    "                    if ns == goal:\n",
    "                        display(toDot(start, goal, Edges, NewFrontier, Visited, Parent))\n",
    "                        return \n",
    "        Frontier = NewFrontier"
   ],
   "outputs": [],
   "execution_count": null
  },
  {
   "cell_type": "code",
   "metadata": {},
   "source": [
    "def main(n):\n",
    "    Edges = create_edges(n)\n",
    "    search_show((0,0), (n-1, n -1), next_states_test, Edges)"
   ],
   "outputs": [],
   "execution_count": null
  },
  {
   "cell_type": "code",
   "metadata": {
    "scrolled": false
   },
   "source": [
    "main(5)"
   ],
   "outputs": [],
   "execution_count": null
  },
  {
   "cell_type": "markdown",
   "metadata": {},
   "source": [
    "# Saving the Infidels"
   ]
  },
  {
   "cell_type": "code",
   "metadata": {},
   "source": [
    "%run 01-Missionaries.ipynb"
   ],
   "outputs": [],
   "execution_count": null
  },
  {
   "cell_type": "markdown",
   "metadata": {},
   "source": [
    "Unfortunately, the command `%run` does not cooperate with the extension `nb_mypy`.  Therefore, we have to unload this extension. "
   ]
  },
  {
   "cell_type": "code",
   "metadata": {},
   "source": [
    "%unload_ext nb_mypy"
   ],
   "outputs": [],
   "execution_count": null
  },
  {
   "cell_type": "code",
   "metadata": {},
   "source": [
    "dot_graph(createRelation(start))"
   ],
   "outputs": [],
   "execution_count": null
  },
  {
   "cell_type": "code",
   "metadata": {},
   "source": [
    "%%time\n",
    "Path = search(start, goal, next_states)\n",
    "printPath(Path)"
   ],
   "outputs": [],
   "execution_count": null
  },
  {
   "cell_type": "markdown",
   "metadata": {},
   "source": [
    "# Solving the Three Thieves Puzzle"
   ]
  },
  {
   "cell_type": "markdown",
   "metadata": {},
   "source": [
    "The code below solves the *Three Thieves Puzzle*.   In order to solve this puzzle, you have to add some code to the notebook `Three-Thieves.ipynb`."
   ]
  },
  {
   "cell_type": "code",
   "metadata": {},
   "source": "%run Three-Thieves-Solution.ipynb",
   "outputs": [],
   "execution_count": null
  },
  {
   "cell_type": "code",
   "metadata": {},
   "source": [
    "%unload_ext nb_mypy"
   ],
   "outputs": [],
   "execution_count": null
  },
  {
   "cell_type": "code",
   "metadata": {
    "scrolled": false
   },
   "source": [
    "dot_graph(createRelation(start))"
   ],
   "outputs": [],
   "execution_count": null
  },
  {
   "cell_type": "code",
   "metadata": {},
   "source": [
    "%%time\n",
    "Path = search(start, goal, next_states)\n",
    "printPath(Path)"
   ],
   "outputs": [],
   "execution_count": null
  },
  {
   "cell_type": "markdown",
   "metadata": {},
   "source": [
    "# Solving the Sliding Puzzle"
   ]
  },
  {
   "cell_type": "code",
   "metadata": {},
   "source": [
    "%run 03-Sliding-Puzzle.ipynb"
   ],
   "outputs": [],
   "execution_count": null
  },
  {
   "cell_type": "code",
   "metadata": {},
   "source": [
    "%load_ext memory_profiler"
   ],
   "outputs": [],
   "execution_count": null
  },
  {
   "cell_type": "code",
   "metadata": {},
   "source": [
    "%%time\n",
    "%memit Path = search(start, goal, next_states)"
   ],
   "outputs": [],
   "execution_count": null
  },
  {
   "cell_type": "code",
   "metadata": {},
   "source": [
    "animation(Path) # type: ignore"
   ],
   "outputs": [],
   "execution_count": null
  },
  {
   "cell_type": "code",
   "metadata": {},
   "source": [],
   "outputs": [],
   "execution_count": null
  }
 ],
 "metadata": {
  "hide_input": false,
  "kernelspec": {
   "display_name": "Python 3 (ipykernel)",
   "language": "python",
   "name": "python3"
  },
  "language_info": {
   "codemirror_mode": {
    "name": "ipython",
    "version": 3
   },
   "file_extension": ".py",
   "mimetype": "text/x-python",
   "name": "python",
   "nbconvert_exporter": "python",
   "pygments_lexer": "ipython3",
   "version": "3.12.2"
  },
  "toc": {
   "base_numbering": 1,
   "nav_menu": {},
   "number_sections": true,
   "sideBar": true,
   "skip_h1_title": false,
   "title_cell": "Table of Contents",
   "title_sidebar": "Contents",
   "toc_cell": false,
   "toc_position": {},
   "toc_section_display": true,
   "toc_window_display": false
  },
  "varInspector": {
   "cols": {
    "lenName": 16,
    "lenType": 16,
    "lenVar": 40
   },
   "kernels_config": {
    "python": {
     "delete_cmd_postfix": "",
     "delete_cmd_prefix": "del ",
     "library": "var_list.py",
     "varRefreshCmd": "print(var_dic_list())"
    },
    "r": {
     "delete_cmd_postfix": ") ",
     "delete_cmd_prefix": "rm(",
     "library": "var_list.r",
     "varRefreshCmd": "cat(var_dic_list()) "
    }
   },
   "types_to_exclude": [
    "module",
    "function",
    "builtin_function_or_method",
    "instance",
    "_Feature"
   ],
   "window_display": false
  }
 },
 "nbformat": 4,
 "nbformat_minor": 4
}
